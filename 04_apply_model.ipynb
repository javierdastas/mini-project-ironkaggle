{
 "cells": [
  {
   "cell_type": "markdown",
   "id": "efada850-34e4-49ce-90cc-351d4e6568e8",
   "metadata": {},
   "source": [
    "# Apply the RandomForestRegressor Model Final Version"
   ]
  },
  {
   "cell_type": "markdown",
   "id": "6b034d31-37ef-4d57-bef8-895de23e241a",
   "metadata": {},
   "source": [
    "## Sales Prediction on \"REAL_DATA.csv\" DataSet"
   ]
  },
  {
   "cell_type": "code",
   "execution_count": 6,
   "id": "f9344fe6-c87d-4da4-ad15-17e8c9b6e7b4",
   "metadata": {},
   "outputs": [
    {
     "name": "stdout",
     "output_type": "stream",
     "text": [
      "Predictions completed. The dataset with predicted sales has been saved to './data/javier_dastas_sales_predictions.csv'.\n"
     ]
    }
   ],
   "source": [
    "import pandas as pd\n",
    "import joblib\n",
    "\n",
    "# Load the stored model\n",
    "model_path = './model/random_forest_sales_model.pkl'  # Update path if needed\n",
    "rf_model = joblib.load(model_path)\n",
    "\n",
    "# Load the new dataset\n",
    "file_path = './data/REAL_DATA_TEST.csv'  # Update path with the new dataset\n",
    "data = pd.read_csv(file_path, delimiter=';')\n",
    "\n",
    "# Separate rows where the store was open\n",
    "data_open = data[data['open'] == 1].reset_index(drop=True)\n",
    "\n",
    "# Preserve the columns to keep\n",
    "columns_for_future = ['date', 'open', 'state_holiday', 'school_holiday', 'index']\n",
    "preserved_cols_data = data_open[columns_for_future].copy()\n",
    "\n",
    "# Drop the ['state_holiday', 'school_holiday', 'index', 'date', 'open'] columns for prediction\n",
    "data_open_for_prediction = data_open.drop(columns=columns_for_future)\n",
    "\n",
    "# Predict sales for rows where the store was open\n",
    "sales_prediction = rf_model.predict(data_open_for_prediction)\n",
    "\n",
    "# Combine open and remove columns\n",
    "combined_predicted_data = pd.concat([data_open_for_prediction, preserved_cols_data], axis=1)\n",
    "combined_predicted_data['sales'] = sales_prediction\n",
    "\n",
    "# Assign sales = 0 to all rows initially\n",
    "data['sales'] = 0.0\n",
    "\n",
    "# Update the rows where the store was open with the predicted sales\n",
    "data.loc[data['open'] == 1, 'sales'] = combined_predicted_data['sales'].values\n",
    "\n",
    "# Save the new dataset with predicted sales\n",
    "output_file = './data/javier_dastas_sales_predictions.csv'\n",
    "data.to_csv(output_file, index=False)\n",
    "\n",
    "print(f\"Predictions completed. The dataset with predicted sales has been saved to '{output_file}'.\")"
   ]
  },
  {
   "cell_type": "code",
   "execution_count": null,
   "id": "548961d1-11ca-43f7-a844-609125f06bb7",
   "metadata": {},
   "outputs": [],
   "source": []
  }
 ],
 "metadata": {
  "kernelspec": {
   "display_name": "Python (base)",
   "language": "python",
   "name": "base"
  },
  "language_info": {
   "codemirror_mode": {
    "name": "ipython",
    "version": 3
   },
   "file_extension": ".py",
   "mimetype": "text/x-python",
   "name": "python",
   "nbconvert_exporter": "python",
   "pygments_lexer": "ipython3",
   "version": "3.12.2"
  }
 },
 "nbformat": 4,
 "nbformat_minor": 5
}
