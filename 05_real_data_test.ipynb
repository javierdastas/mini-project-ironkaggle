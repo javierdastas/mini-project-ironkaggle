{
 "cells": [
  {
   "cell_type": "code",
   "execution_count": 4,
   "id": "be1701ec-ab84-4cd1-bbe1-87a084e6e563",
   "metadata": {},
   "outputs": [
    {
     "name": "stdout",
     "output_type": "stream",
     "text": [
      "Processed data (stores open only):\n",
      "   store_ID  day_of_week  nb_customers_on_day  promotion        sales\n",
      "0       404            3                  657          1  5882.174829\n",
      "1       683            2                  862          0  8062.242394\n",
      "2       920            3                  591          1  5783.027947\n",
      "3       758            4                  569          0  3930.128802\n",
      "4       563            1                  321          1  3556.917393\n",
      "\n",
      "Preprocessed dataset saved to './data/real_data_preprocessed_sales.csv'.\n"
     ]
    },
    {
     "name": "stderr",
     "output_type": "stream",
     "text": [
      "/var/folders/g2/dsm99_hd0c9_m_6qhbpwpvl80000gn/T/ipykernel_37432/1618531928.py:11: UserWarning: Parsing dates in %d/%m/%Y format when dayfirst=False (the default) was specified. Pass `dayfirst=True` or specify a format to silence this warning.\n",
      "  data['date'] = pd.to_datetime(data['date'])\n"
     ]
    }
   ],
   "source": [
    "import pandas as pd\n",
    "from sklearn.preprocessing import OneHotEncoder\n",
    "\n",
    "# Load the dataset\n",
    "file_path = './data/javier_dastas_sales_predictions.csv'  # Update the path if needed\n",
    "data = pd.read_csv(file_path)\n",
    "\n",
    "# print(data.head(3))\n",
    "\n",
    "# Ensure the 'date' column is of datetime type\n",
    "data['date'] = pd.to_datetime(data['date'])\n",
    "\n",
    "# Dont need the 'year' and 'month' columns based on 'date'\n",
    "\n",
    "# Drop the 'date' column\n",
    "columns_to_drop = ['state_holiday', 'school_holiday', 'index', 'date']\n",
    "data = data.drop(columns=columns_to_drop)\n",
    "\n",
    "# Filter only the days when the store was open\n",
    "data_open = data[data['open'] == 1].reset_index(drop=True)\n",
    "\n",
    "# Drop the 'open' column as it's no longer needed\n",
    "data_open = data_open.drop(columns=['open'])\n",
    "\n",
    "# Print the processed data\n",
    "print(\"Processed data (stores open only):\")\n",
    "print(data_open.head())\n",
    "\n",
    "# Save the preprocessed dataset to a new CSV file\n",
    "output_file = './data/real_data_preprocessed_sales.csv'\n",
    "data_open.to_csv(output_file, index=False)\n",
    "print(f\"\\nPreprocessed dataset saved to '{output_file}'.\")"
   ]
  },
  {
   "cell_type": "code",
   "execution_count": null,
   "id": "9435873c-c263-4a77-9d9d-099c2eba25b0",
   "metadata": {},
   "outputs": [],
   "source": []
  },
  {
   "cell_type": "code",
   "execution_count": 7,
   "id": "153487cb-950b-4f27-8574-be77c1b33435",
   "metadata": {},
   "outputs": [
    {
     "name": "stdout",
     "output_type": "stream",
     "text": [
      "Original dataset size: 59105\n",
      "Dataset size without outliers: 58293\n",
      "\n",
      "Dataset without outliers saved to './data/real_data_preprocessed_sales_without_outliers.csv'.\n"
     ]
    }
   ],
   "source": [
    "import pandas as pd\n",
    "from scipy.stats import zscore\n",
    "\n",
    "# Load the preprocessed dataset\n",
    "file_path = './data/real_data_preprocessed_sales.csv'  # Update the path if needed\n",
    "data = pd.read_csv(file_path)\n",
    "\n",
    "# Calculate the z-scores for the 'sales' column\n",
    "data['z_score'] = zscore(data['sales'])\n",
    "\n",
    "# Filter out rows with z-scores greater than 3 or less than -3\n",
    "data_without_outliers = data[data['z_score'].abs() <= 3].reset_index(drop=True)\n",
    "\n",
    "# Drop the 'z_score' column as it's no longer needed\n",
    "data_without_outliers = data_without_outliers.drop(columns=['z_score'])\n",
    "\n",
    "# Save the dataset without outliers to a new CSV file\n",
    "output_file = './data/real_data_preprocessed_sales_without_outliers.csv'\n",
    "data_without_outliers.to_csv(output_file, index=False)\n",
    "\n",
    "# Print summary information\n",
    "print(f\"Original dataset size: {len(data)}\")\n",
    "print(f\"Dataset size without outliers: {len(data_without_outliers)}\")\n",
    "print(f\"\\nDataset without outliers saved to '{output_file}'.\")"
   ]
  },
  {
   "cell_type": "code",
   "execution_count": 10,
   "id": "504c77d8-00d8-46e1-b187-52e75c45e594",
   "metadata": {},
   "outputs": [
    {
     "name": "stdout",
     "output_type": "stream",
     "text": [
      "Model Evaluation Metrics:\n",
      "Mean Absolute Error (MAE): 614.27\n",
      "Mean Squared Error (MSE): 708252.12\n",
      "Root Mean Squared Error (RMSE): 841.58\n",
      "R-squared (R2): 0.89\n",
      "\n",
      "Feature Importance:\n",
      "               Feature  Importance\n",
      "2  nb_customers_on_day    0.796861\n",
      "0             store_ID    0.121787\n",
      "3            promotion    0.057401\n",
      "1          day_of_week    0.023950\n",
      "\n",
      "Trained RandomForest model saved as 'random_forest_sales_model.pkl'.\n"
     ]
    }
   ],
   "source": [
    "import pandas as pd\n",
    "from sklearn.model_selection import train_test_split\n",
    "from sklearn.ensemble import RandomForestRegressor\n",
    "from sklearn.metrics import mean_absolute_error, mean_squared_error, r2_score\n",
    "import numpy as np\n",
    "\n",
    "# Load the preprocessed dataset\n",
    "# file_path = './data/preprocessed_sales.csv'  # Update path if needed\n",
    "file_path = './data/real_data_preprocessed_sales_without_outliers.csv'  # Update path if needed\n",
    "data = pd.read_csv(file_path)\n",
    "\n",
    "# Separate features (X) and target (y)\n",
    "X = data.drop(columns=['sales'])  # Drop the target variable\n",
    "y = data['sales']  # Target variable\n",
    "\n",
    "# Split the dataset into training and testing sets\n",
    "X_train, X_test, y_train, y_test = train_test_split(X, y, test_size=0.2, random_state=42)\n",
    "\n",
    "# Initialize the RandomForestRegressor\n",
    "rf_model = RandomForestRegressor(random_state=42, \n",
    "                                 n_jobs=-1, \n",
    "                                 min_samples_leaf=1, \n",
    "                                 min_samples_split=5,\n",
    "                                 n_estimators=300,\n",
    "                                bootstrap=True,\n",
    "                                max_depth=None)\n",
    "# {'bootstrap': True, 'max_depth': None, 'min_samples_leaf': 1, 'min_samples_split': 5, 'n_estimators': 300}\n",
    "\n",
    "# Train the model\n",
    "rf_model.fit(X_train, y_train)\n",
    "\n",
    "# Make predictions on the test set\n",
    "y_pred = rf_model.predict(X_test)\n",
    "\n",
    "# Calculate evaluation metrics\n",
    "mae = mean_absolute_error(y_test, y_pred)\n",
    "mse = mean_squared_error(y_test, y_pred)\n",
    "rmse = np.sqrt(mse)\n",
    "r2 = r2_score(y_test, y_pred)\n",
    "\n",
    "# Feature importance\n",
    "feature_importance = rf_model.feature_importances_\n",
    "important_features = pd.DataFrame({'Feature': X.columns, 'Importance': feature_importance}).sort_values(by='Importance', ascending=False)\n",
    "\n",
    "# Compare predicted values with actual values\n",
    "exact_matches = np.sum(np.isclose(y_test, y_pred, atol=1e-5))  # Considering floating-point precision\n",
    "total_test_rows = len(y_test)\n",
    "\n",
    "# Output the evaluation metrics\n",
    "print(\"Model Evaluation Metrics:\")\n",
    "print(f\"Mean Absolute Error (MAE): {mae:.2f}\")\n",
    "print(f\"Mean Squared Error (MSE): {mse:.2f}\")\n",
    "print(f\"Root Mean Squared Error (RMSE): {rmse:.2f}\")\n",
    "print(f\"R-squared (R2): {r2:.2f}\")\n",
    "\n",
    "# print(f\"\\nTotal test rows: {total_test_rows}\")\n",
    "# print(f\"Exact matches in predictions: {exact_matches}\")\n",
    "\n",
    "# Display feature importance\n",
    "print(\"\\nFeature Importance:\")\n",
    "print(important_features)\n",
    "\n",
    "# Save the model to a file for later use\n",
    "# import joblib\n",
    "# joblib.dump(rf_model, './model/random_forest_sales_model.pkl')\n",
    "print(\"\\nTrained RandomForest model saved as 'random_forest_sales_model.pkl'.\")"
   ]
  },
  {
   "cell_type": "code",
   "execution_count": null,
   "id": "97e115bf-1174-4728-a31e-25133f87e3e4",
   "metadata": {},
   "outputs": [],
   "source": []
  }
 ],
 "metadata": {
  "kernelspec": {
   "display_name": "Python 3 (ipykernel)",
   "language": "python",
   "name": "python3"
  },
  "language_info": {
   "codemirror_mode": {
    "name": "ipython",
    "version": 3
   },
   "file_extension": ".py",
   "mimetype": "text/x-python",
   "name": "python",
   "nbconvert_exporter": "python",
   "pygments_lexer": "ipython3",
   "version": "3.12.2"
  }
 },
 "nbformat": 4,
 "nbformat_minor": 5
}
